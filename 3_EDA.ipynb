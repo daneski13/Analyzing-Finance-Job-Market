{
 "cells": [
  {
   "cell_type": "markdown",
   "id": "040fe725-6f81-4966-b5de-242f2d5bdcee",
   "metadata": {},
   "source": [
    "# Finance Job Market Analysis\n",
    "\n",
    "This notebook is where I will be conducting exploratory data analysis.\n",
    "\n",
    "## EDA\n",
    "\n",
    "### Loading the data\n",
    "\n",
    "After cleaning there are 28,634 unique listings."
   ]
  },
  {
   "cell_type": "code",
   "execution_count": 498,
   "id": "1d11a15d-e641-4c78-980d-cef8f3b1056c",
   "metadata": {},
   "outputs": [
    {
     "data": {
      "text/html": [
       "<div>\n",
       "<style scoped>\n",
       "    .dataframe tbody tr th:only-of-type {\n",
       "        vertical-align: middle;\n",
       "    }\n",
       "\n",
       "    .dataframe tbody tr th {\n",
       "        vertical-align: top;\n",
       "    }\n",
       "\n",
       "    .dataframe thead th {\n",
       "        text-align: right;\n",
       "    }\n",
       "</style>\n",
       "<table border=\"1\" class=\"dataframe\">\n",
       "  <thead>\n",
       "    <tr style=\"text-align: right;\">\n",
       "      <th></th>\n",
       "      <th>date_scraped</th>\n",
       "      <th>title</th>\n",
       "      <th>full_url</th>\n",
       "      <th>company</th>\n",
       "      <th>company_url</th>\n",
       "      <th>location</th>\n",
       "      <th>description</th>\n",
       "      <th>seniority_level</th>\n",
       "      <th>employment_type</th>\n",
       "      <th>job_function</th>\n",
       "      <th>industries</th>\n",
       "    </tr>\n",
       "  </thead>\n",
       "  <tbody>\n",
       "    <tr>\n",
       "      <th>0</th>\n",
       "      <td>2022-10-04</td>\n",
       "      <td>Quantitative analyst (finance)</td>\n",
       "      <td>https://www.linkedin.com/jobs/view/quantitativ...</td>\n",
       "      <td>Lucas Group, A Korn Ferry Company</td>\n",
       "      <td>https://www.linkedin.com/company/lucas-group?t...</td>\n",
       "      <td>Charlotte, NC</td>\n",
       "      <td>\\n        &lt;p&gt;Lucas Group, a Korn Ferry company...</td>\n",
       "      <td>Associate</td>\n",
       "      <td>Full-time</td>\n",
       "      <td>Finance</td>\n",
       "      <td>Banking</td>\n",
       "    </tr>\n",
       "  </tbody>\n",
       "</table>\n",
       "</div>"
      ],
      "text/plain": [
       "  date_scraped                           title  \\\n",
       "0   2022-10-04  Quantitative analyst (finance)   \n",
       "\n",
       "                                            full_url  \\\n",
       "0  https://www.linkedin.com/jobs/view/quantitativ...   \n",
       "\n",
       "                             company  \\\n",
       "0  Lucas Group, A Korn Ferry Company   \n",
       "\n",
       "                                         company_url       location  \\\n",
       "0  https://www.linkedin.com/company/lucas-group?t...  Charlotte, NC   \n",
       "\n",
       "                                         description seniority_level  \\\n",
       "0  \\n        <p>Lucas Group, a Korn Ferry company...       Associate   \n",
       "\n",
       "  employment_type job_function industries  \n",
       "0       Full-time      Finance    Banking  "
      ]
     },
     "metadata": {},
     "output_type": "display_data"
    },
    {
     "data": {
      "text/html": [
       "<div>\n",
       "<style scoped>\n",
       "    .dataframe tbody tr th:only-of-type {\n",
       "        vertical-align: middle;\n",
       "    }\n",
       "\n",
       "    .dataframe tbody tr th {\n",
       "        vertical-align: top;\n",
       "    }\n",
       "\n",
       "    .dataframe thead th {\n",
       "        text-align: right;\n",
       "    }\n",
       "</style>\n",
       "<table border=\"1\" class=\"dataframe\">\n",
       "  <thead>\n",
       "    <tr style=\"text-align: right;\">\n",
       "      <th></th>\n",
       "      <th>date_scraped</th>\n",
       "      <th>title</th>\n",
       "      <th>full_url</th>\n",
       "      <th>company</th>\n",
       "      <th>company_url</th>\n",
       "      <th>location</th>\n",
       "      <th>description</th>\n",
       "      <th>seniority_level</th>\n",
       "      <th>employment_type</th>\n",
       "      <th>job_function</th>\n",
       "      <th>industries</th>\n",
       "    </tr>\n",
       "  </thead>\n",
       "  <tbody>\n",
       "    <tr>\n",
       "      <th>count</th>\n",
       "      <td>28634</td>\n",
       "      <td>28634</td>\n",
       "      <td>28634</td>\n",
       "      <td>28634</td>\n",
       "      <td>28634</td>\n",
       "      <td>28634</td>\n",
       "      <td>28634</td>\n",
       "      <td>28634</td>\n",
       "      <td>28634</td>\n",
       "      <td>28634</td>\n",
       "      <td>28634</td>\n",
       "    </tr>\n",
       "    <tr>\n",
       "      <th>unique</th>\n",
       "      <td>7</td>\n",
       "      <td>11956</td>\n",
       "      <td>28634</td>\n",
       "      <td>6985</td>\n",
       "      <td>6992</td>\n",
       "      <td>3027</td>\n",
       "      <td>14095</td>\n",
       "      <td>6</td>\n",
       "      <td>4</td>\n",
       "      <td>670</td>\n",
       "      <td>975</td>\n",
       "    </tr>\n",
       "    <tr>\n",
       "      <th>top</th>\n",
       "      <td>2022-09-30</td>\n",
       "      <td>Remote Tax Professional</td>\n",
       "      <td>https://www.linkedin.com/jobs/view/quantitativ...</td>\n",
       "      <td>Aston Carter</td>\n",
       "      <td>https://www.linkedin.com/company/aston-carter?...</td>\n",
       "      <td>United States</td>\n",
       "      <td>\\n        &lt;strong&gt;&lt;u&gt;What You'll Do...&lt;br&gt;&lt;br&gt;...</td>\n",
       "      <td>Associate</td>\n",
       "      <td>Full-time</td>\n",
       "      <td>Not Assigned</td>\n",
       "      <td>Not Assigned</td>\n",
       "    </tr>\n",
       "    <tr>\n",
       "      <th>freq</th>\n",
       "      <td>5568</td>\n",
       "      <td>1214</td>\n",
       "      <td>1</td>\n",
       "      <td>1589</td>\n",
       "      <td>1589</td>\n",
       "      <td>1792</td>\n",
       "      <td>1229</td>\n",
       "      <td>10997</td>\n",
       "      <td>19586</td>\n",
       "      <td>8293</td>\n",
       "      <td>8294</td>\n",
       "    </tr>\n",
       "  </tbody>\n",
       "</table>\n",
       "</div>"
      ],
      "text/plain": [
       "       date_scraped                    title  \\\n",
       "count         28634                    28634   \n",
       "unique            7                    11956   \n",
       "top      2022-09-30  Remote Tax Professional   \n",
       "freq           5568                     1214   \n",
       "\n",
       "                                                 full_url       company  \\\n",
       "count                                               28634         28634   \n",
       "unique                                              28634          6985   \n",
       "top     https://www.linkedin.com/jobs/view/quantitativ...  Aston Carter   \n",
       "freq                                                    1          1589   \n",
       "\n",
       "                                              company_url       location  \\\n",
       "count                                               28634          28634   \n",
       "unique                                               6992           3027   \n",
       "top     https://www.linkedin.com/company/aston-carter?...  United States   \n",
       "freq                                                 1589           1792   \n",
       "\n",
       "                                              description seniority_level  \\\n",
       "count                                               28634           28634   \n",
       "unique                                              14095               6   \n",
       "top     \\n        <strong><u>What You'll Do...<br><br>...       Associate   \n",
       "freq                                                 1229           10997   \n",
       "\n",
       "       employment_type  job_function    industries  \n",
       "count            28634         28634         28634  \n",
       "unique               4           670           975  \n",
       "top          Full-time  Not Assigned  Not Assigned  \n",
       "freq             19586          8293          8294  "
      ]
     },
     "execution_count": 498,
     "metadata": {},
     "output_type": "execute_result"
    }
   ],
   "source": [
    "import pandas as pd\n",
    "\n",
    "# Visualization\n",
    "%matplotlib inline\n",
    "import seaborn as sns\n",
    "\n",
    "linkedin = pd.read_csv(\"data/cleaned.csv\")\n",
    "\n",
    "display(linkedin.head(1))\n",
    "linkedin.describe()"
   ]
  },
  {
   "cell_type": "markdown",
   "id": "02290e67-c9f8-45d6-ad1c-199851da3771",
   "metadata": {},
   "source": [
    "### Locations"
   ]
  },
  {
   "cell_type": "code",
   "execution_count": 499,
   "id": "9426e543-538e-4d1d-b875-9758716f3363",
   "metadata": {},
   "outputs": [
    {
     "data": {
      "text/plain": [
       "[Text(0.5, 1.0, 'Top 10 Locations')]"
      ]
     },
     "execution_count": 499,
     "metadata": {},
     "output_type": "execute_result"
    },
    {
     "data": {
      "image/png": "[encoded data removed]",
      "text/plain": [
       "<Figure size 640x480 with 1 Axes>"
      ]
     },
     "metadata": {},
     "output_type": "display_data"
    }
   ],
   "source": [
    "locations = pd.DataFrame(linkedin[\"location\"].value_counts()).reset_index()\n",
    "locations.rename(columns={\"index\": \"Location\", \"location\": \"Count\"}, inplace=True)\n",
    "\n",
    "palette = reversed(sns.color_palette(\"Blues\", 10))\n",
    "sns.barplot(data=locations.iloc[:10], y=\"Location\", x=\"Count\", palette=palette).set(title='Top 10 Locations')"
   ]
  },
  {
   "cell_type": "code",
   "execution_count": 500,
   "id": "72573c0f",
   "metadata": {},
   "outputs": [
    {
     "data": {
      "application/vnd.plotly.v1+json": {
       "config": {
        "plotlyServerURL": "https://plot.ly"
       },
       "data": [
        {
         "autocolorscale": false,
         "colorscale": [
          [
           0,
           "rgb(247,251,255)"
          ],
          [
           0.125,
           "rgb(222,235,247)"
          ],
          [
           0.25,
           "rgb(198,219,239)"
          ],
          [
           0.375,
           "rgb(158,202,225)"
          ],
          [
           0.5,
           "rgb(107,174,214)"
          ],
          [
           0.625,
           "rgb(66,146,198)"
          ],
          [
           0.75,
           "rgb(33,113,181)"
          ],
          [
           0.875,
           "rgb(8,81,156)"
          ],
          [
           1,
           "rgb(8,48,107)"
          ]
         ],
         "locationmode": "USA-states",
         "locations": [
          "AK",
          "AL",
          "AR",
          "AZ",
          "CA",
          "CO",
          "CT",
          "DC",
          "DE",
          "FL",
          "GA",
          "HI",
          "IA",
          "ID",
          "IL",
          "IN",
          "KS",
          "KY",
          "LA",
          "MA",
          "MD",
          "ME",
          "MI",
          "MN",
          "MO",
          "MS",
          "MT",
          "NC",
          "ND",
          "NE",
          "NH",
          "NJ",
          "NM",
          "NV",
          "NY",
          "OH",
          "OK",
          "OR",
          "PA",
          "RI",
          "SC",
          "SD",
          "TN",
          "TX",
          "UT",
          "VA",
          "VT",
          "WA",
          "WI",
          "WV",
          "WY",
          "ad",
          "an",
          "do",
          "ea",
          "ee",
          "es",
          "ex",
          "ia",
          "is",
          "nd",
          "ng",
          "on",
          "ro",
          "to"
         ],
         "marker": {
          "line": {
           "color": "black"
          }
         },
         "type": "choropleth",
         "z": [
          40,
          155,
          101,
          546,
          2947,
          538,
          355,
          359,
          124,
          1469,
          806,
          53,
          195,
          65,
          1500,
          274,
          232,
          124,
          124,
          972,
          558,
          56,
          535,
          549,
          382,
          72,
          41,
          791,
          31,
          111,
          85,
          693,
          60,
          148,
          2116,
          781,
          155,
          305,
          891,
          69,
          181,
          46,
          358,
          2074,
          249,
          886,
          39,
          719,
          407,
          52,
          20,
          2,
          2,
          8,
          726,
          5,
          1515,
          54,
          13,
          20,
          5,
          2,
          32,
          18,
          1
         ]
        }
       ],
       "layout": {
        "geo": {
         "scope": "usa"
        },
        "template": {
         "data": {
          "bar": [
           {
            "error_x": {
             "color": "#2a3f5f"
            },
            "error_y": {
             "color": "#2a3f5f"
            },
            "marker": {
             "line": {
              "color": "#E5ECF6",
              "width": 0.5
             },
             "pattern": {
              "fillmode": "overlay",
              "size": 10,
              "solidity": 0.2
             }
            },
            "type": "bar"
           }
          ],
          "barpolar": [
           {
            "marker": {
             "line": {
              "color": "#E5ECF6",
              "width": 0.5
             },
             "pattern": {
              "fillmode": "overlay",
              "size": 10,
              "solidity": 0.2
             }
            },
            "type": "barpolar"
           }
          ],
          "carpet": [
           {
            "aaxis": {
             "endlinecolor": "#2a3f5f",
             "gridcolor": "white",
             "linecolor": "white",
             "minorgridcolor": "white",
             "startlinecolor": "#2a3f5f"
            },
            "baxis": {
             "endlinecolor": "#2a3f5f",
             "gridcolor": "white",
             "linecolor": "white",
             "minorgridcolor": "white",
             "startlinecolor": "#2a3f5f"
            },
            "type": "carpet"
           }
          ],
          "choropleth": [
           {
            "colorbar": {
             "outlinewidth": 0,
             "ticks": ""
            },
            "type": "choropleth"
           }
          ],
          "contour": [
           {
            "colorbar": {
             "outlinewidth": 0,
             "ticks": ""
            },
            "colorscale": [
             [
              0,
              "#0d0887"
             ],
             [
              0.1111111111111111,
              "#46039f"
             ],
             [
              0.2222222222222222,
              "#7201a8"
             ],
             [
              0.3333333333333333,
              "#9c179e"
             ],
             [
              0.4444444444444444,
              "#bd3786"
             ],
             [
              0.5555555555555556,
              "#d8576b"
             ],
             [
              0.6666666666666666,
              "#ed7953"
             ],
             [
              0.7777777777777778,
              "#fb9f3a"
             ],
             [
              0.8888888888888888,
              "#fdca26"
             ],
             [
              1,
              "#f0f921"
             ]
            ],
            "type": "contour"
           }
          ],
          "contourcarpet": [
           {
            "colorbar": {
             "outlinewidth": 0,
             "ticks": ""
            },
            "type": "contourcarpet"
           }
          ],
          "heatmap": [
           {
            "colorbar": {
             "outlinewidth": 0,
             "ticks": ""
            },
            "colorscale": [
             [
              0,
              "#0d0887"
             ],
             [
              0.1111111111111111,
              "#46039f"
             ],
             [
              0.2222222222222222,
              "#7201a8"
             ],
             [
              0.3333333333333333,
              "#9c179e"
             ],
             [
              0.4444444444444444,
              "#bd3786"
             ],
             [
              0.5555555555555556,
              "#d8576b"
             ],
             [
              0.6666666666666666,
              "#ed7953"
             ],
             [
              0.7777777777777778,
              "#fb9f3a"
             ],
             [
              0.8888888888888888,
              "#fdca26"
             ],
             [
              1,
              "#f0f921"
             ]
            ],
            "type": "heatmap"
           }
          ],
          "heatmapgl": [
           {
            "colorbar": {
             "outlinewidth": 0,
             "ticks": ""
            },
            "colorscale": [
             [
              0,
              "#0d0887"
             ],
             [
              0.1111111111111111,
              "#46039f"
             ],
             [
              0.2222222222222222,
              "#7201a8"
             ],
             [
              0.3333333333333333,
              "#9c179e"
             ],
             [
              0.4444444444444444,
              "#bd3786"
             ],
             [
              0.5555555555555556,
              "#d8576b"
             ],
             [
              0.6666666666666666,
              "#ed7953"
             ],
             [
              0.7777777777777778,
              "#fb9f3a"
             ],
             [
              0.8888888888888888,
              "#fdca26"
             ],
             [
              1,
              "#f0f921"
             ]
            ],
            "type": "heatmapgl"
           }
          ],
          "histogram": [
           {
            "marker": {
             "pattern": {
              "fillmode": "overlay",
              "size": 10,
              "solidity": 0.2
             }
            },
            "type": "histogram"
           }
          ],
          "histogram2d": [
           {
            "colorbar": {
             "outlinewidth": 0,
             "ticks": ""
            },
            "colorscale": [
             [
              0,
              "#0d0887"
             ],
             [
              0.1111111111111111,
              "#46039f"
             ],
             [
              0.2222222222222222,
              "#7201a8"
             ],
             [
              0.3333333333333333,
              "#9c179e"
             ],
             [
              0.4444444444444444,
              "#bd3786"
             ],
             [
              0.5555555555555556,
              "#d8576b"
             ],
             [
              0.6666666666666666,
              "#ed7953"
             ],
             [
              0.7777777777777778,
              "#fb9f3a"
             ],
             [
              0.8888888888888888,
              "#fdca26"
             ],
             [
              1,
              "#f0f921"
             ]
            ],
            "type": "histogram2d"
           }
          ],
          "histogram2dcontour": [
           {
            "colorbar": {
             "outlinewidth": 0,
             "ticks": ""
            },
            "colorscale": [
             [
              0,
              "#0d0887"
             ],
             [
              0.1111111111111111,
              "#46039f"
             ],
             [
              0.2222222222222222,
              "#7201a8"
             ],
             [
              0.3333333333333333,
              "#9c179e"
             ],
             [
              0.4444444444444444,
              "#bd3786"
             ],
             [
              0.5555555555555556,
              "#d8576b"
             ],
             [
              0.6666666666666666,
              "#ed7953"
             ],
             [
              0.7777777777777778,
              "#fb9f3a"
             ],
             [
              0.8888888888888888,
              "#fdca26"
             ],
             [
              1,
              "#f0f921"
             ]
            ],
            "type": "histogram2dcontour"
           }
          ],
          "mesh3d": [
           {
            "colorbar": {
             "outlinewidth": 0,
             "ticks": ""
            },
            "type": "mesh3d"
           }
          ],
          "parcoords": [
           {
            "line": {
             "colorbar": {
              "outlinewidth": 0,
              "ticks": ""
             }
            },
            "type": "parcoords"
           }
          ],
          "pie": [
           {
            "automargin": true,
            "type": "pie"
           }
          ],
          "scatter": [
           {
            "fillpattern": {
             "fillmode": "overlay",
             "size": 10,
             "solidity": 0.2
            },
            "type": "scatter"
           }
          ],
          "scatter3d": [
           {
            "line": {
             "colorbar": {
              "outlinewidth": 0,
              "ticks": ""
             }
            },
            "marker": {
             "colorbar": {
              "outlinewidth": 0,
              "ticks": ""
             }
            },
            "type": "scatter3d"
           }
          ],
          "scattercarpet": [
           {
            "marker": {
             "colorbar": {
              "outlinewidth": 0,
              "ticks": ""
             }
            },
            "type": "scattercarpet"
           }
          ],
          "scattergeo": [
           {
            "marker": {
             "colorbar": {
              "outlinewidth": 0,
              "ticks": ""
             }
            },
            "type": "scattergeo"
           }
          ],
          "scattergl": [
           {
            "marker": {
             "colorbar": {
              "outlinewidth": 0,
              "ticks": ""
             }
            },
            "type": "scattergl"
           }
          ],
          "scattermapbox": [
           {
            "marker": {
             "colorbar": {
              "outlinewidth": 0,
              "ticks": ""
             }
            },
            "type": "scattermapbox"
           }
          ],
          "scatterpolar": [
           {
            "marker": {
             "colorbar": {
              "outlinewidth": 0,
              "ticks": ""
             }
            },
            "type": "scatterpolar"
           }
          ],
          "scatterpolargl": [
           {
            "marker": {
             "colorbar": {
              "outlinewidth": 0,
              "ticks": ""
             }
            },
            "type": "scatterpolargl"
           }
          ],
          "scatterternary": [
           {
            "marker": {
             "colorbar": {
              "outlinewidth": 0,
              "ticks": ""
             }
            },
            "type": "scatterternary"
           }
          ],
          "surface": [
           {
            "colorbar": {
             "outlinewidth": 0,
             "ticks": ""
            },
            "colorscale": [
             [
              0,
              "#0d0887"
             ],
             [
              0.1111111111111111,
              "#46039f"
             ],
             [
              0.2222222222222222,
              "#7201a8"
             ],
             [
              0.3333333333333333,
              "#9c179e"
             ],
             [
              0.4444444444444444,
              "#bd3786"
             ],
             [
              0.5555555555555556,
              "#d8576b"
             ],
             [
              0.6666666666666666,
              "#ed7953"
             ],
             [
              0.7777777777777778,
              "#fb9f3a"
             ],
             [
              0.8888888888888888,
              "#fdca26"
             ],
             [
              1,
              "#f0f921"
             ]
            ],
            "type": "surface"
           }
          ],
          "table": [
           {
            "cells": {
             "fill": {
              "color": "#EBF0F8"
             },
             "line": {
              "color": "white"
             }
            },
            "header": {
             "fill": {
              "color": "#C8D4E3"
             },
             "line": {
              "color": "white"
             }
            },
            "type": "table"
           }
          ]
         },
         "layout": {
          "annotationdefaults": {
           "arrowcolor": "#2a3f5f",
           "arrowhead": 0,
           "arrowwidth": 1
          },
          "autotypenumbers": "strict",
          "coloraxis": {
           "colorbar": {
            "outlinewidth": 0,
            "ticks": ""
           }
          },
          "colorscale": {
           "diverging": [
            [
             0,
             "#8e0152"
            ],
            [
             0.1,
             "#c51b7d"
            ],
            [
             0.2,
             "#de77ae"
            ],
            [
             0.3,
             "#f1b6da"
            ],
            [
             0.4,
             "#fde0ef"
            ],
            [
             0.5,
             "#f7f7f7"
            ],
            [
             0.6,
             "#e6f5d0"
            ],
            [
             0.7,
             "#b8e186"
            ],
            [
             0.8,
             "#7fbc41"
            ],
            [
             0.9,
             "#4d9221"
            ],
            [
             1,
             "#276419"
            ]
           ],
           "sequential": [
            [
             0,
             "#0d0887"
            ],
            [
             0.1111111111111111,
             "#46039f"
            ],
            [
             0.2222222222222222,
             "#7201a8"
            ],
            [
             0.3333333333333333,
             "#9c179e"
            ],
            [
             0.4444444444444444,
             "#bd3786"
            ],
            [
             0.5555555555555556,
             "#d8576b"
            ],
            [
             0.6666666666666666,
             "#ed7953"
            ],
            [
             0.7777777777777778,
             "#fb9f3a"
            ],
            [
             0.8888888888888888,
             "#fdca26"
            ],
            [
             1,
             "#f0f921"
            ]
           ],
           "sequentialminus": [
            [
             0,
             "#0d0887"
            ],
            [
             0.1111111111111111,
             "#46039f"
            ],
            [
             0.2222222222222222,
             "#7201a8"
            ],
            [
             0.3333333333333333,
             "#9c179e"
            ],
            [
             0.4444444444444444,
             "#bd3786"
            ],
            [
             0.5555555555555556,
             "#d8576b"
            ],
            [
             0.6666666666666666,
             "#ed7953"
            ],
            [
             0.7777777777777778,
             "#fb9f3a"
            ],
            [
             0.8888888888888888,
             "#fdca26"
            ],
            [
             1,
             "#f0f921"
            ]
           ]
          },
          "colorway": [
           "#636efa",
           "#EF553B",
           "#00cc96",
           "#ab63fa",
           "#FFA15A",
           "#19d3f3",
           "#FF6692",
           "#B6E880",
           "#FF97FF",
           "#FECB52"
          ],
          "font": {
           "color": "#2a3f5f"
          },
          "geo": {
           "bgcolor": "white",
           "lakecolor": "white",
           "landcolor": "#E5ECF6",
           "showlakes": true,
           "showland": true,
           "subunitcolor": "white"
          },
          "hoverlabel": {
           "align": "left"
          },
          "hovermode": "closest",
          "mapbox": {
           "style": "light"
          },
          "paper_bgcolor": "white",
          "plot_bgcolor": "#E5ECF6",
          "polar": {
           "angularaxis": {
            "gridcolor": "white",
            "linecolor": "white",
            "ticks": ""
           },
           "bgcolor": "#E5ECF6",
           "radialaxis": {
            "gridcolor": "white",
            "linecolor": "white",
            "ticks": ""
           }
          },
          "scene": {
           "xaxis": {
            "backgroundcolor": "#E5ECF6",
            "gridcolor": "white",
            "gridwidth": 2,
            "linecolor": "white",
            "showbackground": true,
            "ticks": "",
            "zerolinecolor": "white"
           },
           "yaxis": {
            "backgroundcolor": "#E5ECF6",
            "gridcolor": "white",
            "gridwidth": 2,
            "linecolor": "white",
            "showbackground": true,
            "ticks": "",
            "zerolinecolor": "white"
           },
           "zaxis": {
            "backgroundcolor": "#E5ECF6",
            "gridcolor": "white",
            "gridwidth": 2,
            "linecolor": "white",
            "showbackground": true,
            "ticks": "",
            "zerolinecolor": "white"
           }
          },
          "shapedefaults": {
           "line": {
            "color": "#2a3f5f"
           }
          },
          "ternary": {
           "aaxis": {
            "gridcolor": "white",
            "linecolor": "white",
            "ticks": ""
           },
           "baxis": {
            "gridcolor": "white",
            "linecolor": "white",
            "ticks": ""
           },
           "bgcolor": "#E5ECF6",
           "caxis": {
            "gridcolor": "white",
            "linecolor": "white",
            "ticks": ""
           }
          },
          "title": {
           "x": 0.05
          },
          "xaxis": {
           "automargin": true,
           "gridcolor": "white",
           "linecolor": "white",
           "ticks": "",
           "title": {
            "standoff": 15
           },
           "zerolinecolor": "white",
           "zerolinewidth": 2
          },
          "yaxis": {
           "automargin": true,
           "gridcolor": "white",
           "linecolor": "white",
           "ticks": "",
           "title": {
            "standoff": 15
           },
           "zerolinecolor": "white",
           "zerolinewidth": 2
          }
         }
        },
        "title": {
         "text": "Job Listings by State"
        }
       }
      }
     },
     "metadata": {},
     "output_type": "display_data"
    }
   ],
   "source": [
    "import plotly.graph_objects as go\n",
    "\n",
    "# Drop location \"United States\"\n",
    "locations.drop(index=0, inplace=True)\n",
    "\n",
    "# Get State Instead of City and State\n",
    "locations[\"Location\"] = locations[\"Location\"].map(lambda x: x[-2:])\n",
    "locations = locations.groupby(locations[\"Location\"]).aggregate('sum').reset_index()\n",
    "\n",
    "# Map Figure\n",
    "fig = go.Figure(data=go.Choropleth(\n",
    "    locations=locations[\"Location\"],\n",
    "    z=locations[\"Count\"],\n",
    "    locationmode='USA-states',\n",
    "    colorscale='Blues',\n",
    "    autocolorscale=False,\n",
    "    marker_line_color='black',\n",
    "))\n",
    "\n",
    "fig.update_layout(\n",
    "    title_text='Job Listings by State',\n",
    "    geo = dict(\n",
    "        scope='usa',\n",
    "))\n",
    "\n",
    "fig.show()"
   ]
  },
  {
   "cell_type": "markdown",
   "id": "5a5bf182",
   "metadata": {},
   "source": [
    "Jobs with \"United States\" as the location are most likely remote positions. New York City and Chicago have a much higher share of jobs relative to other cities. Since New York City and Chicago are the homes of the major US security markets, it makes since that those 2 cities would have the greatest number of finance jobs.\n",
    "\n",
    "The states of California, New York, Texas, Illinois, and Florida have the most jobs."
   ]
  },
  {
   "cell_type": "markdown",
   "id": "869abbd2-b77b-4bed-af8f-70d678adfeff",
   "metadata": {},
   "source": [
    "### Industries"
   ]
  },
  {
   "cell_type": "code",
   "execution_count": 501,
   "id": "0053e656",
   "metadata": {},
   "outputs": [
    {
     "data": {
      "text/plain": [
       "Not Assigned                                                                          8294\n",
       "Staffing and Recruiting                                                               3112\n",
       "Financial Services                                                                    1691\n",
       "Financial Services and Retail                                                         1120\n",
       "Accounting                                                                             924\n",
       "                                                                                      ... \n",
       "Newspaper Publishing, Online Audio and Video Media, Book and Periodical Publishing       1\n",
       "Research Services, Staffing and Recruiting, Executive Offices                            1\n",
       "Staffing and Recruiting, Retail, Hospitality                                             1\n",
       "Financial Services, Biotechnology Research, Pharmaceutical Manufacturing                 1\n",
       "Consumer Services, Retail, Hospitality                                                   1\n",
       "Name: industries, Length: 975, dtype: int64"
      ]
     },
     "execution_count": 501,
     "metadata": {},
     "output_type": "execute_result"
    }
   ],
   "source": [
    "linkedin[\"industries\"].value_counts()"
   ]
  },
  {
   "cell_type": "markdown",
   "id": "eaa6ecab",
   "metadata": {},
   "source": [
    "Not Assigned can be dropped. Also, some listings have multiple different industries separated by a comma."
   ]
  },
  {
   "cell_type": "code",
   "execution_count": 502,
   "id": "60d35932",
   "metadata": {},
   "outputs": [
    {
     "data": {
      "text/plain": [
       "[Text(0.5, 1.0, 'Top 15 Industries')]"
      ]
     },
     "execution_count": 502,
     "metadata": {},
     "output_type": "execute_result"
    },
    {
     "data": {
      "image/png": "[encoded data removed]",
      "text/plain": [
       "<Figure size 640x480 with 1 Axes>"
      ]
     },
     "metadata": {},
     "output_type": "display_data"
    }
   ],
   "source": [
    "industries = []\n",
    "def get_industries(x):\n",
    "    for industry in str(x).split(', '):\n",
    "        if \"Not Assigned\" not in industry:\n",
    "            industries.append(industry)\n",
    "\n",
    "# Derive industries\n",
    "linkedin[\"industries\"].map(get_industries)\n",
    "\n",
    "industries = pd.Series(industries, name=\"Count\").value_counts().reset_index()\n",
    "industries.rename(columns={\"index\": \"Industry\"}, inplace=True)\n",
    "\n",
    "palette = reversed(sns.color_palette(\"Blues\", 15))\n",
    "sns.barplot(data=industries.iloc[:15], y=\"Industry\", x=\"Count\", palette=palette).set(title='Top 15 Industries')"
   ]
  },
  {
   "cell_type": "code",
   "execution_count": 503,
   "id": "3d6cc66f",
   "metadata": {},
   "outputs": [
    {
     "data": {
      "text/plain": [
       "Aston Carter                1589\n",
       "H&R Block                   1278\n",
       "Grant Thornton LLP (US)      728\n",
       "RemoteWorker US              620\n",
       "PwC                          474\n",
       "                            ... \n",
       "Eureka Multifamily Group       1\n",
       "University of Phoenix          1\n",
       "5th Avenue Recruiting          1\n",
       "JES Holdings, LLC              1\n",
       "Jamestown                      1\n",
       "Name: company, Length: 6985, dtype: int64"
      ]
     },
     "execution_count": 503,
     "metadata": {},
     "output_type": "execute_result"
    }
   ],
   "source": [
    "linkedin[\"company\"].value_counts()"
   ]
  },
  {
   "cell_type": "markdown",
   "id": "02caf142",
   "metadata": {},
   "source": [
    "Staffing/ Recruiting is interestingly the most common industry making postings. This is likely due to staffing firms making many postings, as several of the most repeated companies in the dataset are staffing firms.\n",
    "\n",
    "Besides Staffing/ Recruiting, many of the top 15 industries are directly in the financial industry as expected. \n",
    "\n",
    "Software development, IT, Information/Internet, and Technology where information systems domain knowledge may be useful make up numbers 4, 6, 12, and 13 respectively."
   ]
  },
  {
   "cell_type": "markdown",
   "id": "7f48a85e",
   "metadata": {},
   "source": [
    "### Skills\n"
   ]
  },
  {
   "cell_type": "code",
   "execution_count": 504,
   "id": "21dba5b3",
   "metadata": {},
   "outputs": [
    {
     "data": {
      "text/plain": [
       "[Text(0.5, 1.0, 'Most In Demand Skills')]"
      ]
     },
     "execution_count": 504,
     "metadata": {},
     "output_type": "execute_result"
    },
    {
     "data": {
      "image/png": "[encoded data removed]",
      "text/plain": [
       "<Figure size 640x480 with 1 Axes>"
      ]
     },
     "metadata": {},
     "output_type": "display_data"
    }
   ],
   "source": [
    "import re\n",
    "\n",
    "# Tuple containing the skill name and it's regex pattern\n",
    "# 0 is the name and 1 is the regex pattern\n",
    "skills_search = [\n",
    "    ('Data Analysis', 'data anal'),\n",
    "    ('SQL', 'sql'),\n",
    "    ('Database', 'database'),\n",
    "    ('Excel', 'excel |excel.|excel,'),\n",
    "    ('Tableau', 'tableau'),\n",
    "    ('Power BI', 'power bi')\n",
    "]\n",
    "\n",
    "skills = []\n",
    "def get_skills(x):\n",
    "    for skill in skills_search:\n",
    "        if re.search(skill[1], x) != None:\n",
    "            skills.append(skill[0])\n",
    "\n",
    "linkedin[\"description\"].map(get_skills)\n",
    "\n",
    "skills = pd.Series(skills, name=\"Count\").value_counts().reset_index()\n",
    "skills.rename(columns={\"index\": \"Skill\"}, inplace=True)\n",
    "\n",
    "skills['% of Listings'] = skills['Count'] / linkedin.shape[0] * 100\n",
    "\n",
    "length = len(skills_search)\n",
    "palette = reversed(sns.color_palette(\"Blues\", length))\n",
    "sns.barplot(data=skills.iloc[:length], y=\"Skill\", x='% of Listings', palette=palette).set(title='Most In Demand Skills')"
   ]
  },
  {
   "cell_type": "markdown",
   "id": "3ea31655",
   "metadata": {},
   "source": [
    "Excel is a must-have skill, it is mentioned in 25% of the job listings."
   ]
  },
  {
   "attachments": {},
   "cell_type": "markdown",
   "id": "c26132b6",
   "metadata": {},
   "source": [
    "## Findings\n",
    "\n",
    "### Where are the most jobs located?\n",
    "\n",
    "New York City and Chicago have the greatest proportion of the jobs relative to other cities in the United States. \n",
    "\n",
    "The states of California, New York, Texas, Illinois, and Florida have the most jobs overall.\n",
    "  \n",
    "### Which industries have the most jobs?\n",
    "\n",
    "Unsurprisingly jobs directly in the financial services industry are the most common, but tech is common as well. Software development, IT, Information/Internet, and Technology make up numbers 4, 6, 12, and 13 respectively.\n",
    "\n",
    "### How can I best prepare myself for getting a job, what skills are in demand beyond an education in Finance?\n",
    "\n",
    "Excel is the most in demand skill, being mentioned in 25% of the job descriptions. Database, and Data Analysis are second and third, both around 10%.\n",
    "\n",
    "SQL, Tableau, and Power BI were mentioned in about 1% of the postings, however these skills may set a job candidate apart from others seeking the same role.\n",
    "\n",
    "### Would my MIS degree make me more marketable?\n",
    "\n",
    "Database knowledge and data analysis skills are high in demand which are topics covered in the MIS degree program. Also, IT and tech are in the top 15 industries and in these industries information systems domain knowledge may be useful."
   ]
  }
 ],
 "metadata": {
  "kernelspec": {
   "display_name": "Python 3.10.4 ('job-search-data')",
   "language": "python",
   "name": "python3"
  },
  "language_info": {
   "codemirror_mode": {
    "name": "ipython",
    "version": 3
   },
   "file_extension": ".py",
   "mimetype": "text/x-python",
   "name": "python",
   "nbconvert_exporter": "python",
   "pygments_lexer": "ipython3",
   "version": "3.10.6"
  },
  "vscode": {
   "interpreter": {
    "hash": "94156a6d21471ac07161dd6914d9ec39a9f7b7dd1dfb43f811a02db639327b4a"
   }
  }
 },
 "nbformat": 4,
 "nbformat_minor": 5
}
